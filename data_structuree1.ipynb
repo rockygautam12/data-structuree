{
  "nbformat": 4,
  "nbformat_minor": 0,
  "metadata": {
    "colab": {
      "provenance": []
    },
    "kernelspec": {
      "name": "python3",
      "display_name": "Python 3"
    },
    "language_info": {
      "name": "python"
    }
  },
  "cells": [
    {
      "cell_type": "code",
      "execution_count": null,
      "metadata": {
        "id": "zAgxVJXLTJZg"
      },
      "outputs": [],
      "source": []
    },
    {
      "cell_type": "markdown",
      "source": [
        "  1 What are data structures, and why are they important ?\n",
        "\n",
        "   A data structure is a way to organize data in computer memory so it can be easily accessed and used by computer programs. Every data structure has a specific format for organizing, processing, retrieving and storing data, allowing data to be manipulated in various ways by users and computer systems. Data structures are fundamental to modern software and programming languages. They can be built-in or user-defined, and range from basic to advanced types.\n",
        "\n",
        "   Lists\n",
        "   Tuples\n",
        "   Sets\n",
        "   Dictiona\n",
        "\n",
        "\n",
        "\n",
        "1. Lists\n",
        "\n",
        "Lists are a type of data structure containing an ordered collection of items. They are crucial to executing projects in Python.\n",
        "\n",
        "Every item contained within a list has an inherent order used to identify them, which remains consistent throughout the life of the list. Lists are mutable, allowing elements to be searched, added, moved and deleted after creation. Lists can also be nested, allowing them to contain any object, including other lists and sublist\n"
      ],
      "metadata": {
        "id": "GbxapFz8TV4Q"
      }
    },
    {
      "cell_type": "code",
      "source": [
        "#creating an empty list\n",
        "my_list = []\n",
        "\n",
        "#filling and printing the list\n",
        "my_list = [1, 2, 3, “abc”, 1.5]\n",
        "print(my_list)\n",
        "\n",
        "#Output: [1, 2, 3, ‘abc’, 1.5]\n"
      ],
      "metadata": {
        "id": "W6rosWnOVhUM"
      },
      "execution_count": null,
      "outputs": []
    },
    {
      "cell_type": "markdown",
      "source": [
        "2 Tuples\n"
      ],
      "metadata": {
        "id": "goCrhQLUVvR-"
      }
    },
    {
      "cell_type": "code",
      "source": [
        "#creating an empty tuple\n",
        "my_tuple = ()\n",
        "\n",
        "#filling and printing the tuple\n",
        "my_tuple = (1, 2, 3, “abc”, 1.5)\n",
        "print(my_tuple)\n",
        "\n",
        "#Output: (1, 2, 3, ‘abc’, 1.5)\n"
      ],
      "metadata": {
        "id": "35bl5qWEWQaj"
      },
      "execution_count": null,
      "outputs": []
    },
    {
      "cell_type": "markdown",
      "source": [
        "3 sets"
      ],
      "metadata": {
        "id": "V7JSeqAtWVDH"
      }
    },
    {
      "cell_type": "code",
      "source": [
        "#creating and printing a set\n",
        "my_set = {1, 2, 3, “abc”, 1.5}\n",
        "print(my_set)\n",
        "\n",
        "#output of elements in the tuple is randomized, so it can vary every time the program is run"
      ],
      "metadata": {
        "id": "omutmmKHWaOl"
      },
      "execution_count": null,
      "outputs": []
    },
    {
      "cell_type": "markdown",
      "source": [
        "4 Dictionary"
      ],
      "metadata": {
        "id": "6DzS2io5Wh0N"
      }
    },
    {
      "cell_type": "code",
      "source": [
        "#creating an empty dictionary\n",
        "my_dict = {}\n",
        "\n",
        "#filling and printing the dictionary\n",
        "my_dict =\t{\n",
        "    \"name\": \"Bob\",\n",
        "    \"occupation\": \"Programmer\",\n",
        "    \"start date\": 1984\n",
        "}\n",
        "\n",
        "print(my_dict)\n",
        "\n",
        "#using keys to access certain values\n",
        "name = my_dict[\"name\"]\n",
        "occupation = my_dict[\"occupation\"]\n",
        "\n",
        "#printing the key values\n",
        "print(name, \",\", occupation)\n",
        "\n",
        "\n"
      ],
      "metadata": {
        "id": "A-VSrxoiWz4U"
      },
      "execution_count": null,
      "outputs": []
    },
    {
      "cell_type": "markdown",
      "source": [],
      "metadata": {
        "id": "owRiZ2bLWsJ1"
      }
    },
    {
      "cell_type": "markdown",
      "source": [
        "2 Explain the difference between mutable and immutable data types with example\n",
        "\n",
        "Mutable Data Type – A mutable data type is one whose values can be changed.\n",
        "Example: List, Dictionaries, and Set\n",
        "\n",
        "Immutable Data Type – An immutable data type is one in which the values can’t be changed or altered.\n",
        "Example: String and Tuple\n",
        "\n",
        "Mutable\tImmutable\n",
        "Definition\tData type whose values can be changed after creation.\tData types whose values can’t be changed or altered.\n",
        "Memory Location\tRetains the same memory location even after the content is modified.\tAny modification results in a new object and new memory location\n",
        "Example\tList, Dictionaries, Set\tStrings, Types, Integer\n",
        "Performance\tIt is memory-efficient, as no new objects are created for frequent changes.\tIt might be faster in some scenarios as there’s no need to track changes.\n",
        "Thread-Safety\tNot inherently thread-safe. Concurrent modification can lead to unpredictable results.\tThey are inherently thread-safe due to their unchangeable nature.\n",
        "Use-cases\tWhen you need to modify, add, or remove existing data frequently.\tWhen you want to ensure data remains consistent and unaltered.\n",
        "\n",
        "\n"
      ],
      "metadata": {
        "id": "6yqxS-QdXbxp"
      }
    },
    {
      "cell_type": "markdown",
      "source": [
        "3 What are the main differences between lists and tuples in Python\n",
        "\n",
        "In Python, lists and tuples both store collections of data, but differ in mutability, performance and memory usage. Lists are mutable, allowing modifications, while tuples are immutable. Choosing between them depends on whether you need to modify the data or prioritize performance and memory efficiency.\n",
        "\n",
        "Key Differences between List and Tuple\n",
        "List\n",
        "\n",
        "Tuple\n",
        "\n",
        "1\tLists are mutable(can be modified).\tTuples are immutable(cannot be modified)\n",
        "\n",
        ".\n",
        "2\tIteration over lists is time-consuming.\tIterations over tuple is faster\n",
        "\n",
        "\n",
        "3\tLists are better for performing operations, such as insertion and deletion.\tTuples are more suitable for accessing elements efficiently.\n",
        "\n",
        "\n",
        "4\tLists consume more memory.\tTuples consumes less memory\n",
        "\n",
        "\n",
        "5\tLists have several built-in methods.\tTuples have fewer built-in methods.\n",
        "\n",
        "\n",
        "6\tLists are more prone to unexpected changes and errors.\tTuples, being immutable are less error prone."
      ],
      "metadata": {
        "id": "ma_zhInP8GNE"
      }
    },
    {
      "cell_type": "markdown",
      "source": [
        "4 Describe how dictionaries store data\n",
        "\n",
        "A Python dictionary is a data structure that stores the value in key: value pairs. Values in a dictionary can be of any data type and can be duplicated, whereas keys can’t be repeated and must be immutable.\n",
        "\n",
        "Example: Here, The data is stored in key:value pairs in dictionaries, which makes it easier to find values"
      ],
      "metadata": {
        "id": "JwmVZUeG8_gz"
      }
    },
    {
      "cell_type": "code",
      "source": [
        "d = {1: 'Geeks', 2: 'For', 3: 'Geeks'}\n",
        "print(d)\n",
        "\n",
        "Output\n",
        "{1: 'Geeks', 2: 'For', 3: 'Geeks'}"
      ],
      "metadata": {
        "id": "p4quMu9D9lLr"
      },
      "execution_count": null,
      "outputs": []
    },
    {
      "cell_type": "markdown",
      "source": [],
      "metadata": {
        "id": "vjd-w73A9sua"
      }
    },
    {
      "cell_type": "code",
      "source": [
        "# create dictionary using { }\n",
        "d1 = {1: 'Geeks', 2: 'For', 3: 'Geeks'}\n",
        "print(d1)\n",
        "\n",
        "# create dictionary using dict() constructor\n",
        "d2 = dict(a = \"Geeks\", b = \"for\", c = \"Geeks\")\n",
        "print(d2)\n",
        "\n",
        "Output\n",
        "{1: 'Geeks', 2: 'For', 3: 'Geeks'}\n",
        "{'a': 'Geeks', 'b': 'for', 'c': 'Geeks'}"
      ],
      "metadata": {
        "id": "K9kJtbhO9027"
      },
      "execution_count": null,
      "outputs": []
    },
    {
      "cell_type": "markdown",
      "source": [
        "Dictionary keys are case sensitive: the same name but different cases of Key will be treated distinctly.\n",
        "Keys must be immutable: This means keys can be strings, numbers, or tuples but not lists.\n",
        "Keys must be unique: Duplicate keys are not allowed and any duplicate key will overwrite the previous value.\n",
        "Dictionary internally uses Hashing. Hence, operations like search, insert, delete can be performed in Constant Time."
      ],
      "metadata": {
        "id": "o1zt9Mbx94FJ"
      }
    },
    {
      "cell_type": "markdown",
      "source": [
        "5 Why might you use a set instead of a list in Python\n",
        "\n",
        "Because sets cannot have multiple occurrences of the same element, it makes sets highly useful to efficiently remove duplicate values from a list or tuple and to perform common math operations like unions and intersections.\n",
        "Since sets do not store indexed data or duplicates, they use less memory than lists and are less computationally expensive. As a result, sets take less time to search through. To test this, the code below performs two membership tests. In one case, the container is a list and in the other, it's a set"
      ],
      "metadata": {
        "id": "gZPGMEqb-CHj"
      }
    },
    {
      "cell_type": "markdown",
      "source": [
        "6 What is a string in Python, and how is it different from a list\n",
        "\n",
        "In Python, strings are used for representing textual data. A string is a sequence of characters enclosed in either single quotes ('') or double quotes (“”). The Python language provides various built-in methods and functionalities to work with strings efficiently\n",
        "\n",
        "\n",
        "\n",
        "Strings in Python are sequences of characters enclosed in quotes ('' or “”). Lists are ordered collections of items enclosed in square brackets [].\n",
        "\n",
        "2) Strings are immutable, meaning they cannot be changed once created, while lists are mutable and can be modified as needed.\n",
        "\n",
        "3) Operations like concatenation (+) and repetition (*) work differently for strings and lists. Concatenating strings will merge them together, while concatenating lists will combine their elements.\n",
        "\n",
        "4) String methods like upper(), lower(), and replace() are tailored for text processing, while list methods like append(), remove(), and sort(), and copy() are specific to working with collections of items.\n",
        "\n",
        "5) Strings can be indexed and sliced to access individual characters or substrings, while lists can be accessed using indices to retrieve or modify elements.\n",
        "\n",
        "6) Strings have a fixed length, while lists can dynamically grow or shrink in size by adding or removing elements.\n",
        "\n",
        "7) List comprehension is a powerful feature in Python for creating lists based on existing iterables, while there is no direct equivalent for strings.\n",
        "\n",
        "8) Strings are useful for representing textual data, while lists are versatile data structures that can store different types of elements.\n",
        "\n",
        "9) String formatting allows for creating formatted output using placeholders, while lists can be formatted directly by converting them to strings.\n",
        "\n",
        "10) Both strings and lists are iterable objects in Python, allowing for easy iteration over their elements using loops or comprehension techniques."
      ],
      "metadata": {
        "id": "IBnhT4h3_dhT"
      }
    },
    {
      "cell_type": "markdown",
      "source": [
        "7 How do tuples ensure data integrity in python\n",
        "\n",
        "Tuples are immutable to ensure that their contents remain constant throughout their lifecycle, guaranteeing data integrity and reliability. This immutability allows tuples to be used as keys in dictionaries and elements in sets, as they can be hashed.\n",
        "\n",
        "Tuple. Tuples are used to store multiple items in a single variable. Tuple is one of 4 built-in data types in Python used to store collections of data, the other 3 are List, Set, and Dictionary, all with different qualities and usage. A tuple is a collection which is ordered and unchangeable.-\n"
      ],
      "metadata": {
        "id": "o4xmOyK1ARQ2"
      }
    },
    {
      "cell_type": "markdown",
      "source": [
        "8 What is a hash table, and how does it relate to dictionaries in Python\n",
        "\n",
        "In Python, the Dictionary data types represent the implementation of hash tables. The Keys in the dictionary are hashable–they are generated by a hash function which generates a unique result for each unique value supplied to the hash function. Also, the order of data elements in a dictionary is not fixed.\n",
        "\n",
        "\n",
        "Hashtable: This is an older, non-generic collection that treats everything as objects. This means it doesn't enforce any type of safety, which could lead to errors at runtime if the wrong types are used. Dictionary<TKey, TValue>: This is a modern, generic collection that works with specific types"
      ],
      "metadata": {
        "id": "5LhhFZt6BGNM"
      }
    },
    {
      "cell_type": "markdown",
      "source": [
        "9 Can lists contain different data types in Python\n",
        "\n",
        "\n",
        "   lists can contain heterogeneous data types and objects. For instance, integers, strings, and even functions can be stored within the same list.\n",
        "\n",
        "   All Python lists include the following features or characteristics:\n",
        "\n",
        "Lists can contain items of different types at the same time (including strings, integers, floating point numbers and boolean values).\n",
        "Lists are mutable and dynamic; list items can be added, removed or changed after the list is defined.\n",
        "Lists are ordered; newly added items will be placed at the end of the list.\n",
        "Lists use zero-based indexing; every list item has an associated index, and the first item’s index is 0.\n",
        "Duplicated list items are allowed.\n",
        "Lists can be nested within other lists indefinitely.\n",
        ""
      ],
      "metadata": {
        "id": "2Ud7ArX1BtXZ"
      }
    },
    {
      "cell_type": "markdown",
      "source": [
        "10 Explain why strings are immutable in Python\n",
        "\n",
        "Strings in Python are “immutable” which means they can not be changed after they are created. Some other immutable data types are integers, float, boolean, etc.\n",
        "\n",
        "The immutability of Python string is very useful as it helps in hashing, performance optimization, safety, ease of use, etc.\n",
        "\n",
        "The article will explore the differences between mutable and immutable objects, highlighting the advantages of using immutable objects. It will also compare immutability with mutability, discussing various methods to handle immutability and achieve desired outcomes.\n"
      ],
      "metadata": {
        "id": "WJ8_rdFkCuvG"
      }
    },
    {
      "cell_type": "code",
      "source": [
        "Input:  name_1 = \"Aarun\"\n",
        "             name_1[0] = 'T'\n",
        "Output: TypeError: 'str' object does not support item assignment\n",
        "Explanation: We cannot update the string after declaring it means once an immutable the objects instantiated, its value cannot be changed"
      ],
      "metadata": {
        "id": "YNN8tMglDFm2"
      },
      "execution_count": null,
      "outputs": []
    },
    {
      "cell_type": "markdown",
      "source": [
        "11 What advantages do dictionaries offer over lists for certain tasks\n",
        "\n",
        "Fast Lookup: Dictionaries provide constant-time complexity O(1) for lookups, making them highly efficient for retrieving data.\n",
        "\n",
        "\n",
        "Flexibility: They can store any data type as values, including lists, other dictionaries, or custom objects.\n",
        "\n",
        "- Dictionaries in Python offer fast data retrieval: Unlike lists where you have to traverse through each element to find a value, dictionaries use hash tables for quick access to values based on keys\n",
        "\n",
        "Dictionaries are useful when you have items which need accessing using some sort of key. To take a silly example, perhaps you have a list of people’s names, and you want to associate a telephone number with each name. You don’t care about the order - you just want to put in a name and get a phone number back. Dictionaries are perfect for this.\n",
        "\n",
        "Python is a flexible language, and there is nothing to stop the values of a dictionaries (in the example above, the phone numbers) being (for example) lists, dictionaries, objects or whatever else is legal in the language as a value/instance. I have even on occasion use a dictionary containing functions (without parameters) as values.\n",
        "\n",
        "As to converting from one to the other, I’m not sure that it is all that useful. You are more likely to do things like constructing lists of values or keys - but look at the Python documentation, it is pretty extensive."
      ],
      "metadata": {
        "id": "lsIzyJAkWBFb"
      }
    },
    {
      "cell_type": "markdown",
      "source": [
        "12  Describe a scenario where using a tuple would be preferable over a list\n",
        "\n",
        "Use a list if you need a mutable collection of items where you may need to add, remove, or change elements. Lists are more flexible and have more built-in methods, making them ideal for dynamic collections. Use a tuple if you need an immutable collection where the elements won't change after creation.\n",
        "\n",
        "\n",
        "Immutability: Tuples are immutable, meaning their contents cannot be changed after creation. This makes them suitable for representing fixed collections of items where you want to ensure that the data remains constant. For example, using a tuple to represent coordinates (x, y) ensures that these values cannot be altered accidentally.\n",
        "\n",
        "\n",
        "Performance: Tuples can be more memory-efficient and faster than lists for certain operations since they have a smaller memory overhead due to their\n",
        "\n",
        "\n",
        " immutability. If you need a collection of items that doesn’t change, using a tuple can lead to better performance.\n",
        "\n",
        "\n",
        "Hashability: Tuples can be used as keys in dictionaries or elements in sets because they are hashable (as long as their elements are hashable). Lists, on the other hand, cannot be used in these contexts due to their mutability.\n",
        "Semantic Meaning: When the data represents a fixed structure or a record, tuples can provide clearer semantics. For example, using a tuple to represent a database record (like (id, name, age)) can convey that the data structure is intended to be a fixed, non-changing set of values.\n",
        "\n",
        "Multiple Return Values: Tuples are commonly used to return multiple values from a function. This makes it clear that the function is returning a fixed number of related values.\n",
        "Example\n",
        "\n",
        "Here's a simple example that illustrates some of these points:\n",
        "\n",
        "# Using a tuple to represent a 2D point\n",
        "point = (3, 5)\n",
        "\n",
        "# Attempting to change a value (will raise an error)\n",
        "# point[0] = 10  # This would raise a TypeError\n",
        "\n",
        "# Using a tuple as a dictionary key\n",
        "point_dict = {point: \"A point in 2D space\"}\n",
        "\n",
        "# Using a list for mutable collections\n",
        "mutable_list = [1, 2, 3]\n",
        "mutable_list.append(4)  # Lists can be changed"
      ],
      "metadata": {
        "id": "1uGTiKlnD6Ob"
      }
    },
    {
      "cell_type": "markdown",
      "source": [
        "13  How do sets handle duplicate values in Python\n",
        "  \n",
        "  Items of a set in python are immutable (unchangeable), do not duplicate values, and unordered. Thus, items in a set do not appear in a stipulated manner, i.e., they can appear in a different order every time it is used. Due to this, set items cannot be referred to by key or index\n",
        "\n",
        "\n",
        "  You can eliminate duplicates from a list, tuple, or string by converting it to a set and then back to the original type. For example, you can write: numbers = [1, 2, 3, 3, 4, 5, 5, 6] numbers = list(set(numbers)) print(numbers) This will remove the duplicate 3 and 5 from the numbers list. You can also use the set() function to check if a list, tuple, or string has any duplicates by comparing its length with the length of the set. For example, you can write: name = \"Anna\" if len(name) == len(set(name)): print(\"No duplicates\") else: print(\"Has duplicates\") This will print \"Has duplicates\" because the name has two \"n\"s."
      ],
      "metadata": {
        "id": "ueWRg9PyEyzT"
      }
    },
    {
      "cell_type": "markdown",
      "source": [
        "14 How does the “in” keyword work differently for lists and dictionaries\n",
        "\n",
        "The in and not in operator works on dictionaries; it tells you whether something appears or not as a key in the dictionary. It returns two values True or False. The in operator uses different algorithms for lists and dictionaries. For lists, it uses a search algorithm\n",
        " the in operation for the dictionary tests on keys. The key of the dictionary is a unique value as well as the set, and the execution time is about the same as for sets. On the other hand, dictionary values can be duplicated like a list\n",
        "\n",
        "\n",
        "\n",
        "\n",
        "\n",
        ""
      ],
      "metadata": {
        "id": "g4KhJRSoGXe-"
      }
    },
    {
      "cell_type": "markdown",
      "source": [
        "15  Can you modify the elements of a tuple? Explain why or why not\n",
        "\n",
        "Tuples are immutable, so once they are created, we can't change, add, or remove their elements. If we try to modify a tuple, it will throw a TypeError."
      ],
      "metadata": {
        "id": "YC5gInZTHoEZ"
      }
    },
    {
      "cell_type": "markdown",
      "source": [
        "16 What is a nested dictionary, and give an example of its use case\n",
        "\n",
        "In Python, a nested dictionary is a dictionary inside a dictionary. It's a collection of dictionaries into one single dictionary. Here, the nested_dict is a nested dictionary with the dictionary dictA and dictB . They are two dictionary each having own key and value.\n",
        "\n",
        "Create a Nested Dictionary\n",
        "We're going to create dictionary of people within a dictionary.\n",
        "\n",
        "Example 1: How to create a nested dictionary\n",
        "people = {1: {'name': 'John', 'age': '27', 'sex': 'Male'},\n",
        "          2: {'name': 'Marie', 'age': '22', 'sex': 'Female'}}\n",
        "\n",
        "print(people)\n",
        "When we run above program, it will output:\n",
        "\n",
        "{1: {'name': 'John', 'age': '27', 'sex': 'Male'}, 2: {'name': 'Marie', 'age': '22', 'sex': 'Female'}}\n",
        "In the above program, people is a nested dictionary. The internal dictionary 1 and 2 is assigned to people. Here, both the dictionary have key name, age , sex with different values. Now, we print the result of people.\n",
        "\n",
        "Access elements of a Nested Dictionary\n",
        "To access element of a nested dictionary, we use indexing [] syntax in Python.\n",
        "\n",
        "Example 2: Access the elements using the [] syntax\n",
        "people = {1: {'name': 'John', 'age': '27', 'sex': 'Male'},\n",
        "          2: {'name': 'Marie', 'age': '22', 'sex': 'Female'}}\n",
        "\n",
        "print(people[1]['name'])\n",
        "print(people[1]['age'])\n",
        "print(people[1]['sex'])\n",
        "When we run above program, it will output:\n",
        "\n",
        "John\n",
        "27\n",
        "Male"
      ],
      "metadata": {
        "id": "PmbcocA9IKkq"
      }
    },
    {
      "cell_type": "markdown",
      "source": [
        "17  Describe the time complexity of accessing elements in a dictionary\n",
        "\n",
        "\n",
        "The time complexity of retrieving a value by its key in a dictionary is O(1). This is because dictionaries use a hash table internally which allows constant time lookup. Why O(1)? Hash tables use the hash of the key to find the memory location which enables direct access.\n"
      ],
      "metadata": {
        "id": "ZZsksluxI6cH"
      }
    },
    {
      "cell_type": "markdown",
      "source": [
        "18 In what situations are lists preferred over dictionaries\n",
        "\n",
        "For quick data look-ups, configurations, or caches, favor dictionaries. For ordered collections and sequence operations, such as maintaining a stack or queue, lists are more suitable.\n"
      ],
      "metadata": {
        "id": "GWWh4VS8JzEJ"
      }
    },
    {
      "cell_type": "markdown",
      "source": [
        "19  Why are dictionaries considered unordered, and how does that affect data retrieval\n",
        "\n",
        "A dictionary is termed an unordered collection of objects because dictionaries do not maintain any inherent order of the items based on when they were added. In older versions of Python (before 3.7), dictionaries did not preserve insertion order at all\n"
      ],
      "metadata": {
        "id": "Eo61K_8sKMcc"
      }
    },
    {
      "cell_type": "markdown",
      "source": [
        "20  Explain the difference between a list and a dictionary in terms of data retrieval.\n",
        "\n",
        "A list is an ordered collection of items, whereas a dictionary is an unordered data collection in a key: value pair. Elements from the list can be accessed using the index, while the elements of the dictionary can be accessed using keys"
      ],
      "metadata": {
        "id": "Rrv6h-02KoAB"
      }
    },
    {
      "cell_type": "markdown",
      "source": [
        "1 Write a code to create a string with your name and print it"
      ],
      "metadata": {
        "id": "o0HyKoVeLEJ4"
      }
    },
    {
      "cell_type": "markdown",
      "source": [],
      "metadata": {
        "id": "V7xbW_YkLrv7"
      }
    },
    {
      "cell_type": "code",
      "source": [
        "my_name = \"rocky\"\n",
        "print(my_name)"
      ],
      "metadata": {
        "colab": {
          "base_uri": "https://localhost:8080/"
        },
        "id": "tA2pIB6fLUVa",
        "outputId": "8b3d4fcc-eb7a-4f5e-e79d-6cff65b45f05"
      },
      "execution_count": 2,
      "outputs": [
        {
          "output_type": "stream",
          "name": "stdout",
          "text": [
            "rocky\n"
          ]
        }
      ]
    },
    {
      "cell_type": "code",
      "source": [],
      "metadata": {
        "id": "4AIHuNPYLc76"
      },
      "execution_count": null,
      "outputs": []
    },
    {
      "cell_type": "markdown",
      "source": [
        "2 Write a code to find the length of the string \"Hello World\""
      ],
      "metadata": {
        "id": "OzHUrigRLwX-"
      }
    },
    {
      "cell_type": "code",
      "source": [
        "string = \"Hello World\"\n",
        "length = len(string)\n",
        "print(length)"
      ],
      "metadata": {
        "colab": {
          "base_uri": "https://localhost:8080/"
        },
        "id": "6WT0L9P9L7oP",
        "outputId": "d8d5d130-ba0f-40d8-c04a-232c7c17213e"
      },
      "execution_count": 3,
      "outputs": [
        {
          "output_type": "stream",
          "name": "stdout",
          "text": [
            "11\n"
          ]
        }
      ]
    },
    {
      "cell_type": "code",
      "source": [],
      "metadata": {
        "id": "UmiYEFatMFxk"
      },
      "execution_count": null,
      "outputs": []
    },
    {
      "cell_type": "markdown",
      "source": [
        "3  Write a code to slice the first 3 characters from the string \"Python Programming\""
      ],
      "metadata": {
        "id": "Ot1cRRoAMG95"
      }
    },
    {
      "cell_type": "code",
      "source": [
        "string = \"Python Programming\"\n",
        "sliced_string = string[0:3]\n",
        "print(sliced_string)"
      ],
      "metadata": {
        "colab": {
          "base_uri": "https://localhost:8080/"
        },
        "id": "xfmlhM84MdrI",
        "outputId": "99b6b747-88c1-4cce-90dd-d22e10c40400"
      },
      "execution_count": 4,
      "outputs": [
        {
          "output_type": "stream",
          "name": "stdout",
          "text": [
            "Pyt\n"
          ]
        }
      ]
    },
    {
      "cell_type": "code",
      "source": [],
      "metadata": {
        "id": "qQoiEs6JMfMi"
      },
      "execution_count": null,
      "outputs": []
    },
    {
      "cell_type": "markdown",
      "source": [
        "  4 Write a code to convert the string \"hello\" to uppercase"
      ],
      "metadata": {
        "id": "fUzp2-PwMkZQ"
      }
    },
    {
      "cell_type": "code",
      "source": [
        "string = \"hello\"\n",
        "uppercase_string = string.upper()\n",
        "print(uppercase_string)"
      ],
      "metadata": {
        "id": "XjzxuNVUMzW8"
      },
      "execution_count": null,
      "outputs": []
    },
    {
      "cell_type": "markdown",
      "source": [
        "\n",
        "\n",
        " 5 Write a code to replace the word \"apple\" with \"orange\" in the string \"I like apple\""
      ],
      "metadata": {
        "id": "XVx5F4k_M1OM"
      }
    },
    {
      "cell_type": "code",
      "source": [
        "string = \"I like apple\"\n",
        "new_string = string.replace(\"apple\", \"orange\")\n",
        "print(new_string)"
      ],
      "metadata": {
        "id": "ML_yw-pANLKx"
      },
      "execution_count": null,
      "outputs": []
    },
    {
      "cell_type": "markdown",
      "source": [
        " 6 Write a code to create a list with numbers 1 to 5 and print it"
      ],
      "metadata": {
        "id": "l-zwwF68NNhN"
      }
    },
    {
      "cell_type": "code",
      "source": [
        "my_list = [1, 2, 3, 4, 5]\n",
        "print(my_list)"
      ],
      "metadata": {
        "id": "W0z528EbNZRM"
      },
      "execution_count": null,
      "outputs": []
    },
    {
      "cell_type": "markdown",
      "source": [
        " 7 Write a code to append the number 10 to the list [1, 2, 3, 4]"
      ],
      "metadata": {
        "id": "3Uk_-T6BNbNp"
      }
    },
    {
      "cell_type": "code",
      "source": [
        "my_list = [1, 2, 3, 4]\n",
        "my_list.append(10)\n",
        "print(my_list)"
      ],
      "metadata": {
        "colab": {
          "base_uri": "https://localhost:8080/"
        },
        "id": "bSL71S-dNnZg",
        "outputId": "dc2f558b-14e0-4b5b-8b23-2b8d22173e05"
      },
      "execution_count": 5,
      "outputs": [
        {
          "output_type": "stream",
          "name": "stdout",
          "text": [
            "[1, 2, 3, 4, 10]\n"
          ]
        }
      ]
    },
    {
      "cell_type": "code",
      "source": [],
      "metadata": {
        "id": "uEtNfaoSNsNL"
      },
      "execution_count": null,
      "outputs": []
    },
    {
      "cell_type": "markdown",
      "source": [
        " 8 Write a code to remove the number 3 from the list [1, 2, 3, 4, 5]"
      ],
      "metadata": {
        "id": "3C_uyGXiNvMq"
      }
    },
    {
      "cell_type": "code",
      "source": [
        "my_list = [1, 2, 3, 4, 5]\n",
        "my_list.remove(3)\n",
        "print(my_list)"
      ],
      "metadata": {
        "colab": {
          "base_uri": "https://localhost:8080/"
        },
        "id": "ga3wKfG7N6WY",
        "outputId": "debf56ef-0a42-40d4-d37f-1530d8c9e54a"
      },
      "execution_count": 8,
      "outputs": [
        {
          "output_type": "stream",
          "name": "stdout",
          "text": [
            "[1, 2, 4, 5]\n"
          ]
        }
      ]
    },
    {
      "cell_type": "markdown",
      "source": [
        "9 Write a code to access the second element in the list ['a', 'b', 'c', 'd'"
      ],
      "metadata": {
        "id": "p-ugROheN9Hf"
      }
    },
    {
      "cell_type": "code",
      "source": [
        "my_list = ['a', 'b', 'c', 'd']\n",
        "second_element = my_list[1]\n",
        "print(second_element)"
      ],
      "metadata": {
        "colab": {
          "base_uri": "https://localhost:8080/"
        },
        "id": "RPm42QX9OLFY",
        "outputId": "2decee77-7a31-471a-8138-119516ef387c"
      },
      "execution_count": 9,
      "outputs": [
        {
          "output_type": "stream",
          "name": "stdout",
          "text": [
            "b\n"
          ]
        }
      ]
    },
    {
      "cell_type": "code",
      "source": [],
      "metadata": {
        "id": "cBpGF6OdONXL"
      },
      "execution_count": null,
      "outputs": []
    },
    {
      "cell_type": "markdown",
      "source": [
        "10  Write a code to reverse the list [10, 20, 30, 40, 50]\n"
      ],
      "metadata": {
        "id": "Ws-obeSHOO91"
      }
    },
    {
      "cell_type": "code",
      "source": [
        "my_list = [10, 20, 30, 40, 50]\n",
        "my_list.reverse()\n",
        "print(my_list)"
      ],
      "metadata": {
        "id": "oWSJ0AqQOfrP"
      },
      "execution_count": null,
      "outputs": []
    },
    {
      "cell_type": "markdown",
      "source": [
        "11 Write a code to create a tuple with the elements 100, 200, 300 and print it"
      ],
      "metadata": {
        "id": "CXm_JRx-Oio8"
      }
    },
    {
      "cell_type": "code",
      "source": [
        "my_tuple = (100, 200, 300)\n",
        "print(my_tuple)"
      ],
      "metadata": {
        "id": "DtrxKc7WOuOL"
      },
      "execution_count": null,
      "outputs": []
    },
    {
      "cell_type": "markdown",
      "source": [
        " 12 Write a code to access the second-to-last element of the tuple ('red', 'green', 'blue', 'yellow')."
      ],
      "metadata": {
        "id": "7tsoUP-GOwO5"
      }
    },
    {
      "cell_type": "code",
      "source": [
        "my_tuple = ('red', 'green', 'blue', 'yellow')\n",
        "second_to_last_element = my_tuple[-2]\n",
        "print(second_to_last_element)"
      ],
      "metadata": {
        "id": "nr5C3DwVO7VP"
      },
      "execution_count": null,
      "outputs": []
    },
    {
      "cell_type": "markdown",
      "source": [
        "13  Write a code to find the minimum number in the tuple (10, 20, 5, 15)"
      ],
      "metadata": {
        "id": "ifHgZnUDO9Jc"
      }
    },
    {
      "cell_type": "code",
      "source": [
        "my_tuple = (10, 20, 5, 15)\n",
        "minimum_number = min(my_tuple)\n",
        "print(minimum_number)"
      ],
      "metadata": {
        "id": "RaWYs3VXPHGR"
      },
      "execution_count": null,
      "outputs": []
    },
    {
      "cell_type": "markdown",
      "source": [
        " 14 Write a code to find the index of the element \"cat\" in the tuple ('dog', 'cat', 'rabbit')."
      ],
      "metadata": {
        "id": "J9sefZN6PJdj"
      }
    },
    {
      "cell_type": "code",
      "source": [
        "my_tuple = ('dog', 'cat', 'rabbit')\n",
        "index = my_tuple.index(\"cat\")\n",
        "print(index)"
      ],
      "metadata": {
        "id": "300nKnXQPWkc"
      },
      "execution_count": null,
      "outputs": []
    },
    {
      "cell_type": "markdown",
      "source": [
        " 15 Write a code to create a tuple containing three different fruits and check if \"kiwi\" is in it"
      ],
      "metadata": {
        "id": "q4UY1ey-PYD0"
      }
    },
    {
      "cell_type": "code",
      "source": [
        "fruits = (\"apple\", \"banana\", \"orange\")\n",
        "\n",
        "if \"kiwi\" in fruits:\n",
        "  print(\"Kiwi is in the tuple\")\n",
        "else:\n",
        "  print(\"Kiwi is not in the tuple\")"
      ],
      "metadata": {
        "id": "hYb0elCLPiDP"
      },
      "execution_count": null,
      "outputs": []
    },
    {
      "cell_type": "markdown",
      "source": [
        " 16 Write a code to create a set with the elements 'a', 'b', 'c' and print it"
      ],
      "metadata": {
        "id": "-8JTb6bbPkMx"
      }
    },
    {
      "cell_type": "code",
      "source": [
        "my_set = {'a', 'b', 'c'}\n",
        "print(my_set)"
      ],
      "metadata": {
        "id": "tZZYIC6-PwY5"
      },
      "execution_count": null,
      "outputs": []
    },
    {
      "cell_type": "markdown",
      "source": [
        "17 Write a code to clear all elements from the set {1, 2, 3, 4, 5}"
      ],
      "metadata": {
        "id": "oTnp3GOcPzgE"
      }
    },
    {
      "cell_type": "code",
      "source": [
        "my_set = {1, 2, 3, 4, 5}\n",
        "my_set.clear()\n",
        "print(my_set)"
      ],
      "metadata": {
        "id": "lD9ZWyFwP9ue"
      },
      "execution_count": null,
      "outputs": []
    },
    {
      "cell_type": "markdown",
      "source": [
        "  18 Write a code to remove the element 4 from the set {1, 2, 3, 4}"
      ],
      "metadata": {
        "id": "-XZc7uAxP-42"
      }
    },
    {
      "cell_type": "code",
      "source": [
        "my_set = {1, 2, 3, 4}\n",
        "my_set.remove(4)\n",
        "print(my_set)"
      ],
      "metadata": {
        "id": "ReKo_mlHQIR4"
      },
      "execution_count": null,
      "outputs": []
    },
    {
      "cell_type": "markdown",
      "source": [
        " 19 Write a code to find the union of two sets {1, 2, 3} and {3, 4, 5}"
      ],
      "metadata": {
        "id": "1ti7cOTlQOEI"
      }
    },
    {
      "cell_type": "code",
      "source": [
        "set1 = {1, 2, 3}\n",
        "set2 = {3, 4, 5}\n",
        "\n",
        "union_set = set1.union(set2)\n",
        "print(union_set)"
      ],
      "metadata": {
        "id": "f8vDJODMQb7f"
      },
      "execution_count": null,
      "outputs": []
    },
    {
      "cell_type": "markdown",
      "source": [
        "20 Write a code to find the intersection of two sets {1, 2, 3} and {2, 3, 4}."
      ],
      "metadata": {
        "id": "lmn2Ahy8QdxD"
      }
    },
    {
      "cell_type": "code",
      "source": [
        "set1 = {1, 2, 3}\n",
        "set2 = {2, 3, 4}\n",
        "\n",
        "intersection_set = set1.intersection(set2)\n",
        "print(intersection_set)"
      ],
      "metadata": {
        "id": "6H_NHIC7QpF2"
      },
      "execution_count": null,
      "outputs": []
    },
    {
      "cell_type": "markdown",
      "source": [
        "21  Write a code to create a dictionary with the keys \"name\", \"age\", and \"city\", and print it."
      ],
      "metadata": {
        "id": "NXOFBdI7QtsS"
      }
    },
    {
      "cell_type": "code",
      "source": [
        "my_dict = {\n",
        "    \"name\": \"rocky gautam\",\n",
        "    \"age\": 30,\n",
        "    \"city\": \"New delhi\"\n",
        "}\n",
        "print(my_dict)"
      ],
      "metadata": {
        "colab": {
          "base_uri": "https://localhost:8080/"
        },
        "id": "Mcv-hPA9Q6_p",
        "outputId": "86446aee-d607-4133-bfc6-877e669c235f"
      },
      "execution_count": 10,
      "outputs": [
        {
          "output_type": "stream",
          "name": "stdout",
          "text": [
            "{'name': 'rocky gautam', 'age': 30, 'city': 'New delhi'}\n"
          ]
        }
      ]
    },
    {
      "cell_type": "markdown",
      "source": [
        ".22  Write a code to add a new key-value pair \"country\": \"USA\" to the dictionary {'name': 'John', 'age': 25}."
      ],
      "metadata": {
        "id": "jlKQ9ybhRDG0"
      }
    },
    {
      "cell_type": "code",
      "source": [
        "my_dict = {'name': 'John', 'age': 25}\n",
        "my_dict[\"country\"] = \"USA\"\n",
        "print(my_dict)"
      ],
      "metadata": {
        "id": "aw6XETNmRWmN"
      },
      "execution_count": null,
      "outputs": []
    },
    {
      "cell_type": "markdown",
      "source": [
        "\n",
        " 23 Write a code to access the value associated with the key \"name\" in the dictionary {'name': 'Alice', 'age': 30}."
      ],
      "metadata": {
        "id": "ac99ExpGRe12"
      }
    },
    {
      "cell_type": "code",
      "source": [
        "my_dict = {'name': 'Alice', 'age': 30}\n",
        "name_value = my_dict[\"name\"]\n",
        "print(name_value)"
      ],
      "metadata": {
        "id": "AAXn3cA6RrNK"
      },
      "execution_count": null,
      "outputs": []
    },
    {
      "cell_type": "markdown",
      "source": [
        " 24 Write a code to remove the key \"age\" from the dictionary {'name': 'Bob', 'age': 22, 'city': 'New York'}."
      ],
      "metadata": {
        "id": "ObB7qYqjRxYo"
      }
    },
    {
      "cell_type": "code",
      "source": [
        "my_dict = {'name': 'Bob', 'age': 22, 'city': 'New York'}\n",
        "del my_dict[\"age\"]\n",
        "print(my_dict)\n"
      ],
      "metadata": {
        "id": "mBeQ0V0RSDkt"
      },
      "execution_count": null,
      "outputs": []
    },
    {
      "cell_type": "markdown",
      "source": [
        "  25 Write a code to check if the key \"city\" exists in the dictionary {'name': 'Alice', 'city': 'Paris'}."
      ],
      "metadata": {
        "id": "bPG4AiTfSM65"
      }
    },
    {
      "cell_type": "code",
      "source": [
        "my_dict = {'name': 'Alice', 'city': 'Paris'}\n",
        "\n",
        "if \"city\" in my_dict:\n",
        "  print(\"The key 'city' exists in the dictionary\")\n",
        "else:\n",
        "  print(\"The key 'city' does not exist in the dictionary\")"
      ],
      "metadata": {
        "id": "asbfpmo3SUki"
      },
      "execution_count": null,
      "outputs": []
    },
    {
      "cell_type": "markdown",
      "source": [
        "26 Write a code to create a list, a tuple, and a dictionary, and print them all."
      ],
      "metadata": {
        "id": "pjX4zVl5SYfA"
      }
    },
    {
      "cell_type": "code",
      "source": [
        "# Create a list\n",
        "my_list = [1, 2, 3, \"apple\", \"banana\"]\n",
        "\n",
        "# Create a tuple\n",
        "my_tuple = (10, 20, 30, \"red\", \"green\")\n",
        "\n",
        "# Create a dictionary\n",
        "my_dict = {\n",
        "    \"name\": \"John\",\n",
        "    \"age\": 30,\n",
        "    \"city\": \"New York\"\n",
        "}\n",
        "\n",
        "# Print all three data structures\n",
        "print(\"List:\", my_list)\n",
        "print(\"Tuple:\", my_tuple)\n",
        "print(\"Dictionary:\", my_dict)"
      ],
      "metadata": {
        "id": "UjI0jgnlSjEJ"
      },
      "execution_count": null,
      "outputs": []
    },
    {
      "cell_type": "markdown",
      "source": [
        "27 Write a code to create a list of 5 random numbers between 1 and 100, sort it in ascending order, and print the result (replaced)"
      ],
      "metadata": {
        "id": "z7Y5iqOdSk2v"
      }
    },
    {
      "cell_type": "code",
      "source": [
        "import random\n",
        "\n",
        "# Generate 5 random numbers between 1 and 100\n",
        "random_numbers = [random.randint(1, 100) for _ in range(5)]\n",
        "\n",
        "# Sort the list in ascending order\n",
        "random_numbers.sort()\n",
        "\n",
        "# Print the sorted list\n",
        "print(random_numbers)"
      ],
      "metadata": {
        "colab": {
          "base_uri": "https://localhost:8080/"
        },
        "id": "4qSPNb81S562",
        "outputId": "97115ada-3719-4fdf-a7f2-869171c47d33"
      },
      "execution_count": 7,
      "outputs": [
        {
          "output_type": "stream",
          "name": "stdout",
          "text": [
            "[12, 20, 29, 49, 71]\n"
          ]
        }
      ]
    },
    {
      "cell_type": "markdown",
      "source": [
        "  28 Write a code to create a list with strings and print the element at the third index"
      ],
      "metadata": {
        "id": "hy-3gk4bTF4h"
      }
    },
    {
      "cell_type": "code",
      "source": [
        "my_list = [\"apple\", \"banana\", \"orange\", \"grape\", \"kiwi\"]\n",
        "third_element = my_list[2]  # Accessing element at index 2 (third element)\n",
        "print(third_element)"
      ],
      "metadata": {
        "id": "jZlJBFlSTTtG"
      },
      "execution_count": null,
      "outputs": []
    },
    {
      "cell_type": "markdown",
      "source": [
        " 29 Write a code to combine two dictionaries into one and print the result"
      ],
      "metadata": {
        "id": "cHMJzwNxTVL9"
      }
    },
    {
      "cell_type": "code",
      "source": [
        "dict1 = {'a': 1, 'b': 2}\n",
        "dict2 = {'c': 3, 'd': 4}\n",
        "\n",
        "# Method 1: Using the `update()` method\n",
        "dict1.update(dict2)\n",
        "print(dict1)  # Output: {'a': 1, 'b': 2, 'c': 3, 'd': 4}\n",
        "\n",
        "\n",
        "# Method 2: Using the `**` unpacking operator (Python 3.5+)\n",
        "combined_dict = {**dict1, **dict2}\n",
        "print(combined_dict)  # Output: {'a': 1, 'b': 2, 'c': 3, 'd': 4}"
      ],
      "metadata": {
        "id": "vl4xQ-LgTgca"
      },
      "execution_count": null,
      "outputs": []
    },
    {
      "cell_type": "markdown",
      "source": [
        "30  Write a code to convert a list of strings into a set"
      ],
      "metadata": {
        "id": "oGW5ZvFGTirb"
      }
    },
    {
      "cell_type": "code",
      "source": [
        "my_list = [\"apple\", \"banana\", \"orange\", \"banana\", \"grape\"]\n",
        "my_set = set(my_list)\n",
        "print(my_set)"
      ],
      "metadata": {
        "id": "BiZ-3zC8TqXx"
      },
      "execution_count": null,
      "outputs": []
    }
  ]
}